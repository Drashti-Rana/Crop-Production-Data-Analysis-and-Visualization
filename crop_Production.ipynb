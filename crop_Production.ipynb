{
  "nbformat": 4,
  "nbformat_minor": 0,
  "metadata": {
    "colab": {
      "private_outputs": true,
      "provenance": []
    },
    "kernelspec": {
      "name": "python3",
      "display_name": "Python 3"
    },
    "language_info": {
      "name": "python"
    }
  },
  "cells": [
    {
      "cell_type": "code",
      "execution_count": null,
      "metadata": {
        "id": "8j7vd5oy6Ade"
      },
      "outputs": [],
      "source": [
        "import pandas as pd\n",
        "import numpy as np\n",
        "import datetime as dt"
      ]
    },
    {
      "cell_type": "code",
      "source": [
        "import matplotlib.pyplot as plt\n",
        "import seaborn as sns\n",
        "import plotly.express as px\n",
        "import plotly.graph_objects as go\n"
      ],
      "metadata": {
        "id": "16Yw1-SN8Bln"
      },
      "execution_count": null,
      "outputs": []
    },
    {
      "cell_type": "code",
      "source": [
        "df=pd.read_csv(\"/content/Crop Production data.csv\")\n",
        "df.head()"
      ],
      "metadata": {
        "id": "_sG1RpYB8L2u"
      },
      "execution_count": null,
      "outputs": []
    },
    {
      "cell_type": "code",
      "source": [
        "df.info()"
      ],
      "metadata": {
        "id": "Oj0C0wGC8r2E"
      },
      "execution_count": null,
      "outputs": []
    },
    {
      "cell_type": "code",
      "source": [
        "df[\"State_Name\"].astype(\"category\")\n",
        "df[\"District_Name\"].astype(\"category\")\n",
        "df[\"Season\"].astype(\"category\")\n",
        "df[\"Crop\"].astype(\"category\")\n",
        "df[\"Crop_Year\"]=pd.to_datetime(df[\"Crop_Year\"], format='%Y').dt.year\n"
      ],
      "metadata": {
        "id": "5_d1XGZC80Gu"
      },
      "execution_count": null,
      "outputs": []
    },
    {
      "cell_type": "code",
      "source": [
        "df.columns"
      ],
      "metadata": {
        "id": "Q8Flkzqu_d9Q"
      },
      "execution_count": null,
      "outputs": []
    },
    {
      "cell_type": "code",
      "source": [
        "df.dtypes"
      ],
      "metadata": {
        "id": "qgVPodO8_hWc"
      },
      "execution_count": null,
      "outputs": []
    },
    {
      "cell_type": "code",
      "source": [
        "df.nunique()"
      ],
      "metadata": {
        "id": "eXEXIN15_nW3"
      },
      "execution_count": null,
      "outputs": []
    },
    {
      "cell_type": "code",
      "source": [
        "df.shape"
      ],
      "metadata": {
        "id": "i7TcRHm6EPJo"
      },
      "execution_count": null,
      "outputs": []
    },
    {
      "cell_type": "code",
      "source": [
        "df.isnull().sum()"
      ],
      "metadata": {
        "id": "SVnpGv0eZks7"
      },
      "execution_count": null,
      "outputs": []
    },
    {
      "cell_type": "code",
      "source": [
        "\n",
        "df[df['Production'].isnull()==True]\n"
      ],
      "metadata": {
        "id": "sK2Mx1zLWXW4"
      },
      "execution_count": null,
      "outputs": []
    },
    {
      "cell_type": "code",
      "source": [
        "df=df.dropna()"
      ],
      "metadata": {
        "id": "t4gVBacqZw2E"
      },
      "execution_count": null,
      "outputs": []
    },
    {
      "cell_type": "code",
      "source": [
        "df.shape"
      ],
      "metadata": {
        "id": "CU3zcjTCZ0yF"
      },
      "execution_count": null,
      "outputs": []
    },
    {
      "cell_type": "code",
      "source": [
        "df['Production'].min()"
      ],
      "metadata": {
        "id": "1bHfVeHKZ2h3"
      },
      "execution_count": null,
      "outputs": []
    },
    {
      "cell_type": "code",
      "source": [
        "zero_production=df[df['Production']==0.0]\n",
        "zero_production"
      ],
      "metadata": {
        "id": "N-T5jwN6YNkx"
      },
      "execution_count": null,
      "outputs": []
    },
    {
      "cell_type": "code",
      "source": [
        "index_0=df[df['Production']==0.0].index\n",
        "df.drop(index_0, inplace=True)\n",
        "df.shape\n",
        "df.reset_index(drop=True)"
      ],
      "metadata": {
        "id": "aeLyMqmE3_Wz"
      },
      "execution_count": null,
      "outputs": []
    },
    {
      "cell_type": "code",
      "source": [
        "df = df[df['Production'] != 0.0]"
      ],
      "metadata": {
        "id": "POPM8npIYj-q"
      },
      "execution_count": null,
      "outputs": []
    },
    {
      "cell_type": "code",
      "source": [
        "df.shape"
      ],
      "metadata": {
        "id": "BSNhtHjc4MOz"
      },
      "execution_count": null,
      "outputs": []
    },
    {
      "cell_type": "code",
      "source": [
        "df.info()"
      ],
      "metadata": {
        "id": "9evFgyBV4SgB"
      },
      "execution_count": null,
      "outputs": []
    },
    {
      "cell_type": "code",
      "source": [
        "def rename_seasons(value):\n",
        "    value=value.strip()\n",
        "    if (value == \"Kharif\") | (value == \"Autumn\"):\n",
        "        return \"Monsoon\"\n",
        "    elif value == \"Rabi\" or value==\"Winter\":\n",
        "        return \"Winter\"\n",
        "    elif value == \"Summer\":\n",
        "        return \"Summer\"\n",
        "    else:\n",
        "        return \"Whole Year\"\n",
        "\n",
        "df.insert(loc=4, column='yearly_season', value=df['Season'].apply(rename_seasons))"
      ],
      "metadata": {
        "id": "0a6HcEKXQGql"
      },
      "execution_count": null,
      "outputs": []
    },
    {
      "cell_type": "code",
      "source": [
        "list_of_year=list(df['Crop_Year'].sort_values().unique())\n",
        "list_of_year"
      ],
      "metadata": {
        "id": "cdc-wRhW-vUB"
      },
      "execution_count": null,
      "outputs": []
    },
    {
      "cell_type": "code",
      "source": [
        "df['Crop']=df['Crop'].str.strip()"
      ],
      "metadata": {
        "id": "Q8sDFr6qJtCG"
      },
      "execution_count": null,
      "outputs": []
    },
    {
      "cell_type": "code",
      "source": [
        "list_of_crop = list(df['Crop'].unique())\n",
        "list_of_crop.sort()\n",
        "list_of_crop"
      ],
      "metadata": {
        "id": "lRxFjhC1Jllb"
      },
      "execution_count": null,
      "outputs": []
    },
    {
      "cell_type": "code",
      "source": [
        "df"
      ],
      "metadata": {
        "id": "j8zx6vmuQJoh"
      },
      "execution_count": null,
      "outputs": []
    },
    {
      "cell_type": "code",
      "source": [
        "season_crop=df.groupby('Crop')['Season'].unique().to_frame()\n",
        "season_crop.reset_index()\n",
        "\n",
        "\n",
        "season_crop"
      ],
      "metadata": {
        "id": "dJUWv9qvaZvp"
      },
      "execution_count": null,
      "outputs": []
    },
    {
      "cell_type": "code",
      "source": [
        "seasonly_crop=df.groupby('Season')['Crop'].unique().to_frame()\n",
        "seasonly_crop.reset_index()\n",
        "\n",
        "\n",
        "seasonly_crop"
      ],
      "metadata": {
        "id": "sJdrRDHXCyYd"
      },
      "execution_count": null,
      "outputs": []
    },
    {
      "cell_type": "code",
      "source": [
        "yearlyses_crop=df.groupby('yearly_season')['Crop'].unique().to_frame()\n",
        "yearlyses_crop.reset_index()\n",
        "\n",
        "\n",
        "yearlyses_crop"
      ],
      "metadata": {
        "id": "Fud-Yp_VPwpl"
      },
      "execution_count": null,
      "outputs": []
    },
    {
      "cell_type": "code",
      "source": [
        "crop_detail={}\n",
        "print('crop details by  year,season like ravi,kharif,etc & total production')\n",
        "for crop in list_of_crop:\n",
        "  print('\\t', crop)\n",
        "  crop_Production=df[df['Crop'] == crop].groupby(['Crop_Year','yearly_season','Season'])['Production'].sum().to_frame().reset_index()\n",
        "  crop_table=crop_Production.pivot_table(index='Crop_Year', columns='Season', values='Production')\n",
        "  crop_detail[crop]=crop_table\n",
        "  display(crop_table)"
      ],
      "metadata": {
        "id": "m23I3ooYaQn8"
      },
      "execution_count": null,
      "outputs": []
    },
    {
      "cell_type": "code",
      "source": [
        "ycrop_detail={}\n",
        "print('crop details by  year,season like winter,summer,monsoon,whole year & total production')\n",
        "for crop in list_of_crop:\n",
        "  print('\\n\\t', crop)\n",
        "  crop_Production=df[df['Crop'] == crop].groupby(['Crop_Year','yearly_season'])['Production'].sum().to_frame().reset_index()\n",
        "  crop_table=crop_Production.pivot_table(index='Crop_Year', columns='yearly_season', values='Production')\n",
        "  ycrop_detail[crop]=crop_table\n",
        "  display(crop_table)"
      ],
      "metadata": {
        "id": "-OITYnSUQfib"
      },
      "execution_count": null,
      "outputs": []
    },
    {
      "cell_type": "code",
      "source": [
        "df['State_Name'].unique()"
      ],
      "metadata": {
        "id": "81afowy6cls8"
      },
      "execution_count": null,
      "outputs": []
    },
    {
      "cell_type": "code",
      "source": [
        "yc_detail={}\n",
        "print('yearly details of crop')\n",
        "for y in list_of_year:\n",
        "  print('\\tcrop Production of year', y)\n",
        "  crop_Production=df[df['Crop_Year'] == y].groupby(['State_Name','District_Name','Crop'])['Production'].sum().to_frame().reset_index()\n",
        "  crop_table=crop_Production.pivot_table(index='State_Name', columns='Crop', values='Production')\n",
        "  yc_detail[y]=crop_table\n",
        "  display(crop_table)"
      ],
      "metadata": {
        "id": "-7-Jfu7cCIJ9"
      },
      "execution_count": null,
      "outputs": []
    },
    {
      "cell_type": "code",
      "source": [
        "yc_detail.keys()"
      ],
      "metadata": {
        "id": "8K534ij4Dqyl"
      },
      "execution_count": null,
      "outputs": []
    },
    {
      "cell_type": "code",
      "source": [
        "data=yc_detail[1997]\n",
        "data"
      ],
      "metadata": {
        "id": "v5FFRnnvDgQv"
      },
      "execution_count": null,
      "outputs": []
    },
    {
      "cell_type": "code",
      "source": [
        "df.columns"
      ],
      "metadata": {
        "id": "E16O-zEpKiiq"
      },
      "execution_count": null,
      "outputs": []
    },
    {
      "cell_type": "code",
      "source": [
        "crop_detail.keys()"
      ],
      "metadata": {
        "id": "T4k9NhXcD4TX"
      },
      "execution_count": null,
      "outputs": []
    },
    {
      "cell_type": "code",
      "source": [
        "rice=crop_detail['Rice']\n",
        "rice_total = rice.sum(axis=1)\n",
        "fig = px.bar(x=rice_total.index, y=rice_total.values, title='Rice Production Distribution')\n",
        "fig.show()\n"
      ],
      "metadata": {
        "id": "kdT_aRc0bAHG"
      },
      "execution_count": null,
      "outputs": []
    },
    {
      "cell_type": "code",
      "source": [
        "year_1998=df[df['Crop_Year']==1998].groupby(['State_Name','District_Name','Crop'])['Production'].sum().to_frame()\n",
        "year_1998"
      ],
      "metadata": {
        "id": "anRcdoPgImlQ",
        "collapsed": true
      },
      "execution_count": null,
      "outputs": []
    },
    {
      "cell_type": "code",
      "source": [
        "yc_detail.items()"
      ],
      "metadata": {
        "id": "kL77lC_wbl4n"
      },
      "execution_count": null,
      "outputs": []
    },
    {
      "cell_type": "code",
      "source": [
        "for year, data in yc_detail.items():\n",
        "  fig = px.bar(data, x=data.index, y=data.columns, title=f'Crop Production for the year {year}')\n",
        "  fig.show()"
      ],
      "metadata": {
        "id": "snggX-7KUJMR"
      },
      "execution_count": null,
      "outputs": []
    },
    {
      "cell_type": "code",
      "source": [
        "crop_pivot = df.pivot_table(index='Crop_Year',columns='Season', values='Production', aggfunc='sum')"
      ],
      "metadata": {
        "id": "dEHf6rQhM9I6"
      },
      "execution_count": null,
      "outputs": []
    },
    {
      "cell_type": "code",
      "source": [
        "\n",
        "fig = px.imshow(crop_pivot,\n",
        "                labels=dict(x=\"Season\", y=\"Crop Year\", color=\"Total Production\"),\n",
        "                x=crop_pivot.columns,\n",
        "                y=crop_pivot.index,\n",
        "                color_continuous_scale='twilight',text_auto='.2s'\n",
        "               )\n",
        "fig.update_layout(title='Yearly Season-wise Crop Production')\n",
        "fig.show()"
      ],
      "metadata": {
        "id": "DFhT8FJMNTXr"
      },
      "execution_count": null,
      "outputs": []
    },
    {
      "cell_type": "code",
      "source": [
        "df"
      ],
      "metadata": {
        "id": "KJHMrxp9FmrN"
      },
      "execution_count": null,
      "outputs": []
    },
    {
      "cell_type": "code",
      "source": [
        "df['Season'].unique()"
      ],
      "metadata": {
        "id": "UrzM5ydFGbxh"
      },
      "execution_count": null,
      "outputs": []
    },
    {
      "cell_type": "code",
      "source": [
        "df"
      ],
      "metadata": {
        "id": "ZVDDz8k8K9iA"
      },
      "execution_count": null,
      "outputs": []
    },
    {
      "cell_type": "code",
      "source": [
        "season_crop=df.groupby('yearly_season')['Crop'].unique().to_frame()\n",
        "season_crop.reset_index()\n",
        "\n",
        "\n",
        "season_crop"
      ],
      "metadata": {
        "id": "-60ssi1RLcTj"
      },
      "execution_count": null,
      "outputs": []
    },
    {
      "cell_type": "code",
      "source": [
        "state_production = df.groupby('State_Name')['Production'].sum().sort_values(ascending=False).head(5).reset_index()\n",
        "\n",
        "fig = px.pie(state_production, values='Production', names='State_Name',\n",
        "             title='State-wise Crop Production Distribution')\n",
        "fig.show()"
      ],
      "metadata": {
        "id": "o5mr70OjGCVy"
      },
      "execution_count": null,
      "outputs": []
    },
    {
      "cell_type": "code",
      "source": [
        "list_state=list(df['State_Name'].unique())\n",
        "len(list_state)"
      ],
      "metadata": {
        "id": "_bl4Bv5THfhj"
      },
      "execution_count": null,
      "outputs": []
    },
    {
      "cell_type": "code",
      "source": [
        "state_area = df.groupby('State_Name')['Area'].sum().sort_values(ascending=False).head(5).reset_index()\n",
        "\n",
        "fig = px.pie(state_area, values='Area', names='State_Name',\n",
        "             title='State-wise Crop Production Distribution')\n",
        "fig.show()"
      ],
      "metadata": {
        "id": "mizZ4_elMFTG"
      },
      "execution_count": null,
      "outputs": []
    },
    {
      "cell_type": "code",
      "source": [
        "crop_production = df.groupby('Crop')['Production'].sum().sort_values(ascending=False).head(5).reset_index()\n",
        "display(crop_production)\n",
        "fig = px.pie(crop_production, values='Production', names='Crop',\n",
        "             title='State-wise Crop Production Distribution')\n",
        "fig.show()"
      ],
      "metadata": {
        "id": "-3UygHMEGTP6"
      },
      "execution_count": null,
      "outputs": []
    },
    {
      "cell_type": "code",
      "source": [
        "yearly_production = df.groupby('Crop_Year')['Production'].sum().reset_index()\n",
        "\n",
        "fig = go.Figure()\n",
        "fig.add_trace(go.Scatter(x=yearly_production['Crop_Year'], y=yearly_production['Production'], mode='lines+markers', name='Trendline'))\n",
        "fig.add_trace(go.Bar(x=yearly_production['Crop_Year'], y=yearly_production['Production'], name='Production'))\n",
        "fig.update_layout(title='Yearly Production with Trendline', xaxis_title='Crop Year', yaxis_title='Production')\n",
        "fig.show()"
      ],
      "metadata": {
        "id": "zjVqqAoCQvMx"
      },
      "execution_count": null,
      "outputs": []
    }
  ]
}